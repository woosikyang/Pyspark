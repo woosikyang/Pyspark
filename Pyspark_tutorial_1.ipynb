{
  "nbformat": 4,
  "nbformat_minor": 0,
  "metadata": {
    "colab": {
      "name": "Untitled1.ipynb",
      "provenance": [],
      "include_colab_link": true
    },
    "kernelspec": {
      "name": "python3",
      "display_name": "Python 3"
    }
  },
  "cells": [
    {
      "cell_type": "markdown",
      "metadata": {
        "id": "view-in-github",
        "colab_type": "text"
      },
      "source": [
        "<a href=\"https://colab.research.google.com/github/woosikyang/Pyspark/blob/master/Pyspark_tutorial_1.ipynb\" target=\"_parent\"><img src=\"https://colab.research.google.com/assets/colab-badge.svg\" alt=\"Open In Colab\"/></a>"
      ]
    },
    {
      "cell_type": "code",
      "metadata": {
        "id": "y34zl3UTdERI",
        "colab_type": "code",
        "colab": {}
      },
      "source": [
        "#!apt-get install openjdk-8-jdk-headless -qq > /dev/null\n",
        "!wget -q https://www-us.apache.org/dist/spark/spark-2.3.4/spark-2.3.4-bin-hadoop2.7.tgz\n",
        "!tar xf spark-2.3.4-bin-hadoop2.7.tgz\n",
        "#!pip install -q findspark"
      ],
      "execution_count": 0,
      "outputs": []
    },
    {
      "cell_type": "code",
      "metadata": {
        "id": "faP6S_jLbyI1",
        "colab_type": "code",
        "colab": {}
      },
      "source": [
        "import os\n",
        "os.environ[\"JAVA_HOME\"] = \"/usr/lib/jvm/java-8-openjdk-amd64\"\n",
        "os.environ[\"SPARK_HOME\"] = \"/content/spark-2.3.4-bin-hadoop2.7\""
      ],
      "execution_count": 0,
      "outputs": []
    },
    {
      "cell_type": "code",
      "metadata": {
        "id": "XSEiOISgb4qs",
        "colab_type": "code",
        "colab": {}
      },
      "source": [
        "import findspark\n",
        "findspark.init()\n",
        "from pyspark.sql import SparkSession\n",
        "spark = SparkSession.builder.master(\"local[*]\").getOrCreate()"
      ],
      "execution_count": 0,
      "outputs": []
    },
    {
      "cell_type": "code",
      "metadata": {
        "id": "0iUJTZbVb4zv",
        "colab_type": "code",
        "colab": {}
      },
      "source": [
        "from google.colab import files\n",
        "#files.upload()"
      ],
      "execution_count": 0,
      "outputs": []
    },
    {
      "cell_type": "code",
      "metadata": {
        "id": "BTjGjzDxb47X",
        "colab_type": "code",
        "colab": {}
      },
      "source": [
        "import os\n",
        "os.listdir(os.path.join(os.getcwd(),'sample_data'))\n",
        "\n",
        "data_path = os.path.join(os.getcwd(),'sample_data')\n",
        "tr_data = os.path.join(data_path, 'california_housing_train.csv')\n",
        "te_data =  os.path.join(data_path, 'california_housing_test.csv')"
      ],
      "execution_count": 0,
      "outputs": []
    },
    {
      "cell_type": "code",
      "metadata": {
        "id": "cBM7xsk5b7yQ",
        "colab_type": "code",
        "colab": {}
      },
      "source": [
        "from pyspark.ml.feature import VectorAssembler\n",
        "from pyspark.ml.regression import LinearRegression\n",
        "\n",
        "#dataset = spark.read.csv('BostonHousing.csv',inferSchema=True, header =True)"
      ],
      "execution_count": 0,
      "outputs": []
    },
    {
      "cell_type": "code",
      "metadata": {
        "id": "51FuBzyBb74P",
        "colab_type": "code",
        "colab": {}
      },
      "source": [
        "#dataset.printSchema()\n",
        "tr_data = spark.read.csv(tr_data, inferSchema=True, header=True)\n",
        "te_data = spark.read.csv(te_data, inferSchema=True, header=True)"
      ],
      "execution_count": 0,
      "outputs": []
    },
    {
      "cell_type": "code",
      "metadata": {
        "id": "sRxcO9mRiE4W",
        "colab_type": "code",
        "colab": {
          "base_uri": "https://localhost:8080/",
          "height": 215
        },
        "outputId": "20df2610-24e8-4038-f2d5-d02f233e806f"
      },
      "source": [
        "tr_data.printSchema()"
      ],
      "execution_count": 31,
      "outputs": [
        {
          "output_type": "stream",
          "text": [
            "root\n",
            " |-- longitude: double (nullable = true)\n",
            " |-- latitude: double (nullable = true)\n",
            " |-- housing_median_age: double (nullable = true)\n",
            " |-- total_rooms: double (nullable = true)\n",
            " |-- total_bedrooms: double (nullable = true)\n",
            " |-- population: double (nullable = true)\n",
            " |-- households: double (nullable = true)\n",
            " |-- median_income: double (nullable = true)\n",
            " |-- median_house_value: double (nullable = true)\n",
            "\n"
          ],
          "name": "stdout"
        }
      ]
    },
    {
      "cell_type": "code",
      "metadata": {
        "id": "RKIgIKuyiiE8",
        "colab_type": "code",
        "colab": {
          "base_uri": "https://localhost:8080/",
          "height": 55
        },
        "outputId": "64511c05-8477-4539-966e-2b2e8d6f8677"
      },
      "source": [
        "cols = tr_data.columns[:-1]\n",
        "print(cols)"
      ],
      "execution_count": 35,
      "outputs": [
        {
          "output_type": "stream",
          "text": [
            "['longitude', 'latitude', 'housing_median_age', 'total_rooms', 'total_bedrooms', 'population', 'households', 'median_income']\n"
          ],
          "name": "stdout"
        }
      ]
    },
    {
      "cell_type": "code",
      "metadata": {
        "id": "nnGEkSDDb_vo",
        "colab_type": "code",
        "colab": {
          "base_uri": "https://localhost:8080/",
          "height": 485
        },
        "outputId": "d24b0028-db8b-49ab-b39b-06d26c262c97"
      },
      "source": [
        "#Input all the features in one vector column\n",
        "assembler = VectorAssembler(inputCols=cols, outputCol = 'Attributes')\n",
        "\n",
        "tr_output = assembler.transform(tr_data)\n",
        "te_output = assembler.transform(te_data)\n",
        "\n",
        "#Input vs Output\n",
        "tr_finalized_data = tr_output.select(\"Attributes\",tr_data.columns[-1])\n",
        "te_finalized_data = te_output.select(\"Attributes\",tr_data.columns[-1])\n",
        "\n",
        "tr_finalized_data.show()"
      ],
      "execution_count": 36,
      "outputs": [
        {
          "output_type": "stream",
          "text": [
            "+--------------------+------------------+\n",
            "|          Attributes|median_house_value|\n",
            "+--------------------+------------------+\n",
            "|[-114.31,34.19,15...|           66900.0|\n",
            "|[-114.47,34.4,19....|           80100.0|\n",
            "|[-114.56,33.69,17...|           85700.0|\n",
            "|[-114.57,33.64,14...|           73400.0|\n",
            "|[-114.57,33.57,20...|           65500.0|\n",
            "|[-114.58,33.63,29...|           74000.0|\n",
            "|[-114.58,33.61,25...|           82400.0|\n",
            "|[-114.59,34.83,41...|           48500.0|\n",
            "|[-114.59,33.61,34...|           58400.0|\n",
            "|[-114.6,34.83,46....|           48100.0|\n",
            "|[-114.6,33.62,16....|           86500.0|\n",
            "|[-114.6,33.6,21.0...|           62000.0|\n",
            "|[-114.61,34.84,48...|           48600.0|\n",
            "|[-114.61,34.83,31...|           70400.0|\n",
            "|[-114.63,32.76,15...|           45000.0|\n",
            "|[-114.65,34.89,17...|           69100.0|\n",
            "|[-114.65,33.6,28....|           94900.0|\n",
            "|[-114.65,32.79,21...|           25000.0|\n",
            "|[-114.66,32.74,17...|           44000.0|\n",
            "|[-114.67,33.92,17...|           27500.0|\n",
            "+--------------------+------------------+\n",
            "only showing top 20 rows\n",
            "\n"
          ],
          "name": "stdout"
        }
      ]
    },
    {
      "cell_type": "code",
      "metadata": {
        "id": "v_sI1LuIj0sF",
        "colab_type": "code",
        "colab": {
          "base_uri": "https://localhost:8080/",
          "height": 215
        },
        "outputId": "4abc09de-82c1-4369-d956-23ab79ff7c73"
      },
      "source": [
        "te_finalized_data.show(5)"
      ],
      "execution_count": 38,
      "outputs": [
        {
          "output_type": "stream",
          "text": [
            "+--------------------+------------------+\n",
            "|          Attributes|median_house_value|\n",
            "+--------------------+------------------+\n",
            "|[-122.05,37.37,27...|          344700.0|\n",
            "|[-118.3,34.26,43....|          176500.0|\n",
            "|[-117.81,33.78,27...|          270500.0|\n",
            "|[-118.36,33.82,28...|          330000.0|\n",
            "|[-119.67,36.33,19...|           81700.0|\n",
            "+--------------------+------------------+\n",
            "only showing top 5 rows\n",
            "\n"
          ],
          "name": "stdout"
        }
      ]
    },
    {
      "cell_type": "code",
      "metadata": {
        "id": "Y2Z7R_Ovb_yP",
        "colab_type": "code",
        "colab": {
          "base_uri": "https://localhost:8080/",
          "height": 215
        },
        "outputId": "29d4e9ca-4ee5-407d-f615-f0319c126b40"
      },
      "source": [
        "#Split training and testing data\n",
        "#train_data,test_data = finalized_data.randomSplit([0.8,0.2])\n",
        "\n",
        "\n",
        "regressor = LinearRegression(featuresCol = 'Attributes', labelCol = tr_data.columns[-1])\n",
        "\n",
        "#Learn to fit the model from training set\n",
        "regressor = regressor.fit(tr_finalized_data)\n",
        "\n",
        "#To predict the prices on testing set\n",
        "pred = regressor.evaluate(te_finalized_data)\n",
        "\n",
        "#Predict the model\n",
        "pred.predictions.show(5)"
      ],
      "execution_count": 39,
      "outputs": [
        {
          "output_type": "stream",
          "text": [
            "+--------------------+------------------+------------------+\n",
            "|          Attributes|median_house_value|        prediction|\n",
            "+--------------------+------------------+------------------+\n",
            "|[-122.05,37.37,27...|          344700.0| 352812.3111097822|\n",
            "|[-118.3,34.26,43....|          176500.0|  212717.700748377|\n",
            "|[-117.81,33.78,27...|          270500.0| 272344.6995217828|\n",
            "|[-118.36,33.82,28...|          330000.0| 314244.3193442584|\n",
            "|[-119.67,36.33,19...|           81700.0|119644.22239148291|\n",
            "+--------------------+------------------+------------------+\n",
            "only showing top 5 rows\n",
            "\n"
          ],
          "name": "stdout"
        }
      ]
    },
    {
      "cell_type": "code",
      "metadata": {
        "id": "Wb3V2K1Ib_03",
        "colab_type": "code",
        "colab": {
          "base_uri": "https://localhost:8080/",
          "height": 73
        },
        "outputId": "e3d30242-4d00-4a18-cfbe-44ec247843d6"
      },
      "source": [
        "#coefficient of the regression model\n",
        "coeff = regressor.coefficients\n",
        "\n",
        "#X and Y intercept\n",
        "intr = regressor.intercept\n",
        "\n",
        "print (\"The coefficient of the model is : %a\" %coeff)\n",
        "print (\"The Intercept of the model is : %f\" %intr)"
      ],
      "execution_count": 40,
      "outputs": [
        {
          "output_type": "stream",
          "text": [
            "The coefficient of the model is : DenseVector([-43139.6372, -42925.6731, 1150.6949, -8.3783, 117.6485, -38.4888, 45.436, 40507.0684])\n",
            "The Intercept of the model is : -3620600.890969\n"
          ],
          "name": "stdout"
        }
      ]
    },
    {
      "cell_type": "code",
      "metadata": {
        "id": "PNp88peQb_3f",
        "colab_type": "code",
        "colab": {
          "base_uri": "https://localhost:8080/",
          "height": 89
        },
        "outputId": "35f14439-6f84-48d5-85fc-f3d476960aff"
      },
      "source": [
        "from pyspark.ml.evaluation import RegressionEvaluator\n",
        "eval = RegressionEvaluator(labelCol=tr_data.columns[-1], predictionCol=\"prediction\", metricName=\"rmse\")\n",
        "\n",
        "# Root Mean Square Error\n",
        "rmse = eval.evaluate(pred.predictions)\n",
        "print(\"RMSE: %.3f\" % rmse)\n",
        "\n",
        "# Mean Square Error\n",
        "mse = eval.evaluate(pred.predictions, {eval.metricName: \"mse\"})\n",
        "print(\"MSE: %.3f\" % mse)\n",
        "\n",
        "# Mean Absolute Error\n",
        "mae = eval.evaluate(pred.predictions, {eval.metricName: \"mae\"})\n",
        "print(\"MAE: %.3f\" % mae)\n",
        "\n",
        "# r2 - coefficient of determination\n",
        "r2 = eval.evaluate(pred.predictions, {eval.metricName: \"r2\"})\n",
        "print(\"r2: %.3f\" %r2)"
      ],
      "execution_count": 41,
      "outputs": [
        {
          "output_type": "stream",
          "text": [
            "RMSE: 69765.360\n",
            "MSE: 4867205486.918\n",
            "MAE: 50352.228\n",
            "r2: 0.620\n"
          ],
          "name": "stdout"
        }
      ]
    },
    {
      "cell_type": "code",
      "metadata": {
        "id": "NxsVAjc2kBYH",
        "colab_type": "code",
        "colab": {}
      },
      "source": [
        ""
      ],
      "execution_count": 0,
      "outputs": []
    }
  ]
}